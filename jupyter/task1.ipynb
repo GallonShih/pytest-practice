{
 "cells": [
  {
   "cell_type": "code",
   "execution_count": 1,
   "metadata": {},
   "outputs": [],
   "source": [
    "import numpy as np\n",
    "import pandas as pd"
   ]
  },
  {
   "cell_type": "code",
   "execution_count": 11,
   "metadata": {},
   "outputs": [],
   "source": [
    "df_nb = pd.read_csv('../data/NB.csv')\n",
    "df_pc = pd.read_csv('../data/PC.csv')\n",
    "\n",
    "df_nb.columns = [c.strip() for c in df_nb.columns]\n",
    "df_pc.columns = [c.strip() for c in df_pc.columns]"
   ]
  },
  {
   "cell_type": "code",
   "execution_count": 15,
   "metadata": {},
   "outputs": [],
   "source": [
    "# df_nb.query('Defective == False')['Total Cost']."
   ]
  }
 ],
 "metadata": {
  "kernelspec": {
   "display_name": "Python 3.7.6 ('pytest-env': venv)",
   "language": "python",
   "name": "python3"
  },
  "language_info": {
   "codemirror_mode": {
    "name": "ipython",
    "version": 3
   },
   "file_extension": ".py",
   "mimetype": "text/x-python",
   "name": "python",
   "nbconvert_exporter": "python",
   "pygments_lexer": "ipython3",
   "version": "3.7.6"
  },
  "orig_nbformat": 4,
  "vscode": {
   "interpreter": {
    "hash": "adad4d6e63ac7b65312be10811fe72820de7d0ee01e0d71b862e7ea57584f3ff"
   }
  }
 },
 "nbformat": 4,
 "nbformat_minor": 2
}
