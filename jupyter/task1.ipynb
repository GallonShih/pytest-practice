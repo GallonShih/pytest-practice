{
 "cells": [
  {
   "cell_type": "code",
   "execution_count": 1,
   "metadata": {},
   "outputs": [],
   "source": [
    "import numpy as np\n",
    "import pandas as pd\n",
    "import os"
   ]
  },
  {
   "cell_type": "code",
   "execution_count": 67,
   "metadata": {},
   "outputs": [],
   "source": [
    "class ComputerCostOutlook:\n",
    "    def __init__(self, nb_filepath: str, pc_filepath: str, output_folder: str):\n",
    "        self.nb_filepath = nb_filepath\n",
    "        self.pc_filepath = pc_filepath\n",
    "        self.output_folder = output_folder\n",
    "    \n",
    "    def _load_data(self):\n",
    "        df_nb = pd.read_csv('../data/NB.csv')\n",
    "        df_pc = pd.read_csv('../data/PC.csv')\n",
    "        df_nb.columns = [c.strip() for c in df_nb.columns]\n",
    "        df_pc.columns = [c.strip() for c in df_pc.columns]\n",
    "        return df_nb, df_pc\n",
    "    \n",
    "    def _find_isn_with_maxtc(self, df_nb, df_pc):\n",
    "        df_isn_with_maxtc = pd.DataFrame()\n",
    "        df_nb_maxtc = df_nb.loc[[df_nb.query('Defective == False')['Total Cost'].idxmax()], ['Product Type', 'ISN', 'Total Cost']]\n",
    "        df_isn_with_maxtc = pd.concat([df_isn_with_maxtc, df_nb_maxtc]).reset_index(drop=True)\n",
    "        df_pc_maxtc = df_pc.loc[[df_pc.query('Defective == False')['Total Cost'].idxmax()], ['Product Type', 'ISN', 'Total Cost']]\n",
    "        df_isn_with_maxtc = pd.concat([df_isn_with_maxtc, df_pc_maxtc]).reset_index(drop=True)\n",
    "        return df_isn_with_maxtc\n",
    "    \n",
    "    def _total_cost_desc(self, df_nb, df_pc):\n",
    "        df_nb_sub = df_nb.query('Defective == False')\n",
    "        df_pc_sub = df_pc.query('Defective == False')\n",
    "        df_cost_desc = pd.DataFrame({\n",
    "            'Product Type': ['NB', 'PC'],\n",
    "            'total_cost_max': [df_nb_sub['Total Cost'].max(), df_pc_sub['Total Cost'].max()],\n",
    "            'total_cost_min': [df_nb_sub['Total Cost'].min(), df_pc_sub['Total Cost'].min()],\n",
    "            'total_cost_avg': [round(df_nb_sub['Total Cost'].mean(), 2), round(df_pc_sub['Total Cost'].mean(), 2)]\n",
    "        })\n",
    "        return df_cost_desc\n",
    "    \n",
    "    def _bettery_cost_desc(self, df_nb):\n",
    "        df_nb_sub = df_nb.query('Defective == False')\n",
    "        df_bet_cost_desc = pd.DataFrame({\n",
    "            'Product Type': ['NB'],\n",
    "            'bettery_cost_max': [df_nb_sub['Total Cost'].max()],\n",
    "            'bettery_cost_min': [df_nb_sub['Total Cost'].min()],\n",
    "            'bettery_cost_avg': [round(df_nb_sub['Total Cost'].mean(), 2)]\n",
    "        })\n",
    "        return df_bet_cost_desc\n",
    "\n",
    "    def execute(self):\n",
    "        df_nb, df_pc = self._load_data()\n",
    "        df_isn_with_maxtc = self._find_isn_with_maxtc(df_nb=df_nb, df_pc=df_pc)\n",
    "        df_cost_desc = self._total_cost_desc(df_nb=df_nb, df_pc=df_pc)\n",
    "        df_bet_cost_desc = self._bettery_cost_desc(df_nb=df_nb)\n",
    "        output_filepath = os.path.join('../', 'result.xlsx')\n",
    "        with pd.ExcelWriter(output_filepath) as writer:\n",
    "            df_isn_with_maxtc.to_excel(writer, sheet_name='result 1', index=0)\n",
    "            df_cost_desc.to_excel(writer, sheet_name='result 2', index=0)\n",
    "            df_bet_cost_desc.to_excel(writer, sheet_name='result 3', index=0)\n"
   ]
  },
  {
   "cell_type": "code",
   "execution_count": 69,
   "metadata": {},
   "outputs": [
    {
     "data": {
      "text/plain": [
       "'../result.xlsx'"
      ]
     },
     "execution_count": 69,
     "metadata": {},
     "output_type": "execute_result"
    }
   ],
   "source": [
    "os.path.join('../', 'result.xlsx')"
   ]
  },
  {
   "cell_type": "code",
   "execution_count": 65,
   "metadata": {},
   "outputs": [],
   "source": [
    "op = ComputerCostOutlook(nb_filepath='../data/NB.csv', pc_filepath='../data/PC.csv')"
   ]
  },
  {
   "cell_type": "code",
   "execution_count": 66,
   "metadata": {},
   "outputs": [],
   "source": [
    "op.execute()"
   ]
  },
  {
   "cell_type": "code",
   "execution_count": 56,
   "metadata": {},
   "outputs": [],
   "source": [
    "df_nb = pd.read_csv('../data/NB.csv')\n",
    "df_pc = pd.read_csv('../data/PC.csv')\n",
    "df_nb.columns = [c.strip() for c in df_nb.columns]\n",
    "df_pc.columns = [c.strip() for c in df_pc.columns]"
   ]
  },
  {
   "cell_type": "code",
   "execution_count": 62,
   "metadata": {},
   "outputs": [],
   "source": [
    "df_nb_sub = df_nb.query('Defective == False')\n",
    "df_bet_cost_desc = pd.DataFrame({\n",
    "    'Product Type': ['NB'],\n",
    "    'bettery_cost_max': [df_nb_sub['Total Cost'].max()],\n",
    "    'bettery_cost_min': [df_nb_sub['Total Cost'].min()],\n",
    "    'bettery_cost_avg': [round(df_nb_sub['Total Cost'].mean(), 2)]\n",
    "})"
   ]
  },
  {
   "cell_type": "code",
   "execution_count": 6,
   "metadata": {},
   "outputs": [],
   "source": [
    "df_pc = pd.DataFrame({\n",
    "        'Product Type': ['PC', 'PC', 'PC', 'PC', 'PC'],\n",
    "        'ISN': ['PC1', 'PC2', 'PC3', 'PC4', 'PC5'],\n",
    "        'Defective ': [False, False, True, True, True],\n",
    "        'CPU Cost': [8, 10, 12, 14, 16],\n",
    "        'Network Card Cost': [6, 8, 10, 12, 14],\n",
    "        'Total Cost': [4, 6, 8, 10, 12]\n",
    "    })"
   ]
  },
  {
   "cell_type": "code",
   "execution_count": 7,
   "metadata": {},
   "outputs": [],
   "source": [
    "df_pc2 = pd.DataFrame({\n",
    "        'Product Type': ['PC', 'PC', 'PC', 'PC', 'PC'],\n",
    "        'ISN': ['PC1', 'PC2', 'PC3', 'PC4', 'PC5'],\n",
    "        'Defective ': [False, False, True, True, True],\n",
    "        'CPU Cost': [8, 10, 12, 14, 16],\n",
    "        'Network Card Cost': [6, 8, 10, 12, 14],\n",
    "        'Total Cost': [4, 6, 8, 10, 12]\n",
    "    })"
   ]
  },
  {
   "cell_type": "code",
   "execution_count": 8,
   "metadata": {},
   "outputs": [
    {
     "data": {
      "text/html": [
       "<div>\n",
       "<style scoped>\n",
       "    .dataframe tbody tr th:only-of-type {\n",
       "        vertical-align: middle;\n",
       "    }\n",
       "\n",
       "    .dataframe tbody tr th {\n",
       "        vertical-align: top;\n",
       "    }\n",
       "\n",
       "    .dataframe thead th {\n",
       "        text-align: right;\n",
       "    }\n",
       "</style>\n",
       "<table border=\"1\" class=\"dataframe\">\n",
       "  <thead>\n",
       "    <tr style=\"text-align: right;\">\n",
       "      <th></th>\n",
       "      <th>Product Type</th>\n",
       "      <th>ISN</th>\n",
       "      <th>Defective</th>\n",
       "      <th>CPU Cost</th>\n",
       "      <th>Network Card Cost</th>\n",
       "      <th>Total Cost</th>\n",
       "    </tr>\n",
       "  </thead>\n",
       "  <tbody>\n",
       "    <tr>\n",
       "      <th>0</th>\n",
       "      <td>True</td>\n",
       "      <td>True</td>\n",
       "      <td>True</td>\n",
       "      <td>True</td>\n",
       "      <td>True</td>\n",
       "      <td>True</td>\n",
       "    </tr>\n",
       "    <tr>\n",
       "      <th>1</th>\n",
       "      <td>True</td>\n",
       "      <td>True</td>\n",
       "      <td>True</td>\n",
       "      <td>True</td>\n",
       "      <td>True</td>\n",
       "      <td>True</td>\n",
       "    </tr>\n",
       "    <tr>\n",
       "      <th>2</th>\n",
       "      <td>True</td>\n",
       "      <td>True</td>\n",
       "      <td>True</td>\n",
       "      <td>True</td>\n",
       "      <td>True</td>\n",
       "      <td>True</td>\n",
       "    </tr>\n",
       "    <tr>\n",
       "      <th>3</th>\n",
       "      <td>True</td>\n",
       "      <td>True</td>\n",
       "      <td>True</td>\n",
       "      <td>True</td>\n",
       "      <td>True</td>\n",
       "      <td>True</td>\n",
       "    </tr>\n",
       "    <tr>\n",
       "      <th>4</th>\n",
       "      <td>True</td>\n",
       "      <td>True</td>\n",
       "      <td>True</td>\n",
       "      <td>True</td>\n",
       "      <td>True</td>\n",
       "      <td>True</td>\n",
       "    </tr>\n",
       "  </tbody>\n",
       "</table>\n",
       "</div>"
      ],
      "text/plain": [
       "   Product Type   ISN  Defective   CPU Cost  Network Card Cost  Total Cost\n",
       "0          True  True        True      True               True        True\n",
       "1          True  True        True      True               True        True\n",
       "2          True  True        True      True               True        True\n",
       "3          True  True        True      True               True        True\n",
       "4          True  True        True      True               True        True"
      ]
     },
     "execution_count": 8,
     "metadata": {},
     "output_type": "execute_result"
    }
   ],
   "source": [
    "df_pc == df_pc2"
   ]
  },
  {
   "cell_type": "code",
   "execution_count": 4,
   "metadata": {},
   "outputs": [],
   "source": [
    "df_pc.columns = [c.strip() for c in df_pc.columns]"
   ]
  },
  {
   "cell_type": "code",
   "execution_count": 5,
   "metadata": {},
   "outputs": [
    {
     "data": {
      "text/html": [
       "<div>\n",
       "<style scoped>\n",
       "    .dataframe tbody tr th:only-of-type {\n",
       "        vertical-align: middle;\n",
       "    }\n",
       "\n",
       "    .dataframe tbody tr th {\n",
       "        vertical-align: top;\n",
       "    }\n",
       "\n",
       "    .dataframe thead th {\n",
       "        text-align: right;\n",
       "    }\n",
       "</style>\n",
       "<table border=\"1\" class=\"dataframe\">\n",
       "  <thead>\n",
       "    <tr style=\"text-align: right;\">\n",
       "      <th></th>\n",
       "      <th>Product Type</th>\n",
       "      <th>ISN</th>\n",
       "      <th>Defective</th>\n",
       "      <th>CPU Cost</th>\n",
       "      <th>Network Card Cost</th>\n",
       "      <th>Total Cost</th>\n",
       "    </tr>\n",
       "  </thead>\n",
       "  <tbody>\n",
       "    <tr>\n",
       "      <th>0</th>\n",
       "      <td>PC</td>\n",
       "      <td>PC1</td>\n",
       "      <td>False</td>\n",
       "      <td>8</td>\n",
       "      <td>6</td>\n",
       "      <td>4</td>\n",
       "    </tr>\n",
       "    <tr>\n",
       "      <th>1</th>\n",
       "      <td>PC</td>\n",
       "      <td>PC2</td>\n",
       "      <td>False</td>\n",
       "      <td>10</td>\n",
       "      <td>8</td>\n",
       "      <td>6</td>\n",
       "    </tr>\n",
       "    <tr>\n",
       "      <th>2</th>\n",
       "      <td>PC</td>\n",
       "      <td>PC3</td>\n",
       "      <td>True</td>\n",
       "      <td>12</td>\n",
       "      <td>10</td>\n",
       "      <td>8</td>\n",
       "    </tr>\n",
       "    <tr>\n",
       "      <th>3</th>\n",
       "      <td>PC</td>\n",
       "      <td>PC4</td>\n",
       "      <td>True</td>\n",
       "      <td>14</td>\n",
       "      <td>12</td>\n",
       "      <td>10</td>\n",
       "    </tr>\n",
       "    <tr>\n",
       "      <th>4</th>\n",
       "      <td>PC</td>\n",
       "      <td>PC5</td>\n",
       "      <td>True</td>\n",
       "      <td>16</td>\n",
       "      <td>14</td>\n",
       "      <td>12</td>\n",
       "    </tr>\n",
       "  </tbody>\n",
       "</table>\n",
       "</div>"
      ],
      "text/plain": [
       "  Product Type  ISN  Defective  CPU Cost  Network Card Cost  Total Cost\n",
       "0           PC  PC1      False         8                  6           4\n",
       "1           PC  PC2      False        10                  8           6\n",
       "2           PC  PC3       True        12                 10           8\n",
       "3           PC  PC4       True        14                 12          10\n",
       "4           PC  PC5       True        16                 14          12"
      ]
     },
     "execution_count": 5,
     "metadata": {},
     "output_type": "execute_result"
    }
   ],
   "source": [
    "df_pc"
   ]
  }
 ],
 "metadata": {
  "kernelspec": {
   "display_name": "Python 3.7.6 ('pytest-env': venv)",
   "language": "python",
   "name": "python3"
  },
  "language_info": {
   "codemirror_mode": {
    "name": "ipython",
    "version": 3
   },
   "file_extension": ".py",
   "mimetype": "text/x-python",
   "name": "python",
   "nbconvert_exporter": "python",
   "pygments_lexer": "ipython3",
   "version": "3.7.6"
  },
  "orig_nbformat": 4,
  "vscode": {
   "interpreter": {
    "hash": "09659940ae175ab217c498ea2e3a4f8317977c3a268b8d75dd1b5941a3825fe8"
   }
  }
 },
 "nbformat": 4,
 "nbformat_minor": 2
}
